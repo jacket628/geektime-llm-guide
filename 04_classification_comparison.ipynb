{
  "cells": [
    {
      "cell_type": "code",
      "execution_count": 1,
      "metadata": {
        "colab": {
          "base_uri": "https://localhost:8080/"
        },
        "id": "VHClECUkHcPp",
        "outputId": "5b33ed1c-c8b3-42a8-a450-9111823f7708"
      },
      "outputs": [
        {
          "name": "stdout",
          "output_type": "stream",
          "text": [
            "Collecting fasttext==0.9.2\n",
            "  Downloading fasttext-0.9.2.tar.gz (68 kB)\n",
            "\u001b[?25l     \u001b[90m━━━━━━━━━━━━━━━━━━━━━━━━━━━━━━━━━━━━━━━━\u001b[0m \u001b[32m0.0/68.8 kB\u001b[0m \u001b[31m?\u001b[0m eta \u001b[36m-:--:--\u001b[0m\r\u001b[2K     \u001b[91m━━━━━━━━━━━━━━━━━━━━━━━━━━━━━━━━━━━\u001b[0m\u001b[91m╸\u001b[0m\u001b[90m━━━━\u001b[0m \u001b[32m61.4/68.8 kB\u001b[0m \u001b[31m2.0 MB/s\u001b[0m eta \u001b[36m0:00:01\u001b[0m\r\u001b[2K     \u001b[90m━━━━━━━━━━━━━━━━━━━━━━━━━━━━━━━━━━━━━━━━\u001b[0m \u001b[32m68.8/68.8 kB\u001b[0m \u001b[31m1.7 MB/s\u001b[0m eta \u001b[36m0:00:00\u001b[0m\n",
            "\u001b[?25h  Preparing metadata (setup.py) ... \u001b[?25l\u001b[?25hdone\n",
            "Collecting pybind11>=2.2 (from fasttext==0.9.2)\n",
            "  Using cached pybind11-2.11.1-py3-none-any.whl (227 kB)\n",
            "Requirement already satisfied: setuptools>=0.7.0 in /usr/local/lib/python3.10/dist-packages (from fasttext==0.9.2) (67.7.2)\n",
            "Requirement already satisfied: numpy in /usr/local/lib/python3.10/dist-packages (from fasttext==0.9.2) (1.23.5)\n",
            "Building wheels for collected packages: fasttext\n",
            "  Building wheel for fasttext (setup.py) ... \u001b[?25l\u001b[?25hdone\n",
            "  Created wheel for fasttext: filename=fasttext-0.9.2-cp310-cp310-linux_x86_64.whl size=4199774 sha256=a2abeb1f730b352409085af8f4b7dc464bdeddaa985c73b40a9bdbad5d9a8a67\n",
            "  Stored in directory: /root/.cache/pip/wheels/a5/13/75/f811c84a8ab36eedbaef977a6a58a98990e8e0f1967f98f394\n",
            "Successfully built fasttext\n",
            "Installing collected packages: pybind11, fasttext\n",
            "Successfully installed fasttext-0.9.2 pybind11-2.11.1\n",
            "Requirement already satisfied: gensim==4.3.2 in /usr/local/lib/python3.10/dist-packages (4.3.2)\n",
            "Requirement already satisfied: numpy>=1.18.5 in /usr/local/lib/python3.10/dist-packages (from gensim==4.3.2) (1.23.5)\n",
            "Requirement already satisfied: scipy>=1.7.0 in /usr/local/lib/python3.10/dist-packages (from gensim==4.3.2) (1.11.4)\n",
            "Requirement already satisfied: smart-open>=1.8.1 in /usr/local/lib/python3.10/dist-packages (from gensim==4.3.2) (6.4.0)\n"
          ]
        }
      ],
      "source": [
        "%pip install fasttext==0.9.2\n",
        "%pip install gensim==4.3.2"
      ]
    },
    {
      "cell_type": "markdown",
      "metadata": {
        "id": "wXQ8qh_3HcPq"
      },
      "source": [
        "### Fasttext效果测试"
      ]
    },
    {
      "cell_type": "code",
      "execution_count": 2,
      "metadata": {
        "colab": {
          "base_uri": "https://localhost:8080/"
        },
        "id": "9LRcwrCvHcPr",
        "outputId": "df76731d-ff58-43c9-86f0-34b1834045f8"
      },
      "outputs": [
        {
          "name": "stdout",
          "output_type": "stream",
          "text": [
            "--2023-12-31 04:59:44--  https://dl.fbaipublicfiles.com/fasttext/vectors-crawl/cc.en.300.bin.gz\n",
            "Resolving dl.fbaipublicfiles.com (dl.fbaipublicfiles.com)... 13.35.7.128, 13.35.7.50, 13.35.7.38, ...\n",
            "Connecting to dl.fbaipublicfiles.com (dl.fbaipublicfiles.com)|13.35.7.128|:443... connected.\n",
            "HTTP request sent, awaiting response... 200 OK\n",
            "Length: 4503593528 (4.2G) [application/octet-stream]\n",
            "Saving to: ‘cc.en.300.bin.gz’\n",
            "\n",
            "cc.en.300.bin.gz    100%[===================>]   4.19G   155MB/s    in 28s     \n",
            "\n",
            "2023-12-31 05:00:12 (151 MB/s) - ‘cc.en.300.bin.gz’ saved [4503593528/4503593528]\n",
            "\n"
          ]
        }
      ],
      "source": [
        "!wget https://dl.fbaipublicfiles.com/fasttext/vectors-crawl/cc.en.300.bin.gz"
      ]
    },
    {
      "cell_type": "code",
      "execution_count": 3,
      "metadata": {
        "id": "6SiTtR8QHcPr"
      },
      "outputs": [],
      "source": [
        "!gunzip ./cc.en.300.bin.gz"
      ]
    },
    {
      "cell_type": "code",
      "execution_count": 4,
      "metadata": {
        "id": "5ykoNmB7HcPr"
      },
      "outputs": [],
      "source": [
        "import gensim\n",
        "import numpy as np\n",
        "# Load the FastText pre-trained model\n",
        "model = gensim.models.fasttext.load_facebook_model('cc.en.300.bin')\n",
        "\n",
        "def get_fasttext_vector(line):\n",
        "    vec = np.zeros(300) # Initialize an empty 300-dimensional vector\n",
        "    for word in line.split():\n",
        "        vec += model.wv[word]\n",
        "    vec /= len(line.split()) # Take the average over all words in the line\n",
        "    return vec"
      ]
    },
    {
      "cell_type": "code",
      "execution_count": 5,
      "metadata": {
        "colab": {
          "base_uri": "https://localhost:8080/"
        },
        "id": "ANbdHEF9HcPr",
        "outputId": "56a3313c-7558-4c66-ee91-b0e706dbe04b"
      },
      "outputs": [
        {
          "name": "stderr",
          "output_type": "stream",
          "text": [
            "WARNING:gensim.models.fasttext:could not extract any ngrams from '#2', returning origin vector\n"
          ]
        }
      ],
      "source": [
        "positive_text = \"\"\"Wanted to save some to bring to my Chicago family but my North Carolina family ate all 4 boxes before I could pack. These are excellent...could serve to anyone\"\"\"\n",
        "negative_text = \"\"\"First, these should be called Mac - Coconut bars, as Coconut is the #2 ingredient and Mango is #3.  Second, lots of people don't like coconut.  I happen to be allergic to it.  Word to Amazon that if you want happy customers to make things like this more prominent.  Thanks.\"\"\"\n",
        "\n",
        "positive_example_in_fasttext = get_fasttext_vector(positive_text)\n",
        "negative_example_in_fasttext = get_fasttext_vector(negative_text)\n",
        "\n",
        "positive_review_in_fasttext = get_fasttext_vector(\"An Amazon review with a positive sentiment.\")\n",
        "negative_review_in_fasttext = get_fasttext_vector('An Amazon review with a negative sentiment.')"
      ]
    },
    {
      "cell_type": "code",
      "execution_count": 6,
      "metadata": {
        "colab": {
          "base_uri": "https://localhost:8080/"
        },
        "id": "HsW-HHcPHcPs",
        "outputId": "283313cf-5c5e-4eb0-f63f-f99de1d2aede"
      },
      "outputs": [
        {
          "name": "stdout",
          "output_type": "stream",
          "text": [
            "Fasttext好评例子的评分 : -0.000544\n",
            "Fasttext差评例子的评分 : 0.000369\n"
          ]
        }
      ],
      "source": [
        "import numpy as np\n",
        "\n",
        "def cosine_similarity(vector_a, vector_b):\n",
        "  dot_product = np.dot(vector_a, vector_b)\n",
        "  norm_a = np.linalg.norm(vector_a)\n",
        "  norm_b = np.linalg.norm(vector_b)\n",
        "  epsilon = 1e-10\n",
        "  cosine_similarity = dot_product / (norm_a * norm_b + epsilon)\n",
        "  return cosine_similarity\n",
        "\n",
        "def get_fasttext_score(sample_embedding):\n",
        "  return cosine_similarity(sample_embedding, positive_review_in_fasttext) - cosine_similarity(sample_embedding, negative_review_in_fasttext)\n",
        "\n",
        "positive_score = get_fasttext_score(positive_example_in_fasttext)\n",
        "negative_score = get_fasttext_score(negative_example_in_fasttext)\n",
        "\n",
        "print(\"Fasttext好评例子的评分 : %f\" % (positive_score))\n",
        "print(\"Fasttext差评例子的评分 : %f\" % (negative_score))"
      ]
    },
    {
      "cell_type": "markdown",
      "metadata": {
        "id": "mQfzw023HcPs"
      },
      "source": [
        "### T5效果测试"
      ]
    },
    {
      "cell_type": "code",
      "execution_count": 7,
      "metadata": {
        "colab": {
          "base_uri": "https://localhost:8080/"
        },
        "id": "wPD6fbeSHcPs",
        "outputId": "2f98b7bd-e3c8-494a-9715-f03d51af8492"
      },
      "outputs": [
        {
          "name": "stdout",
          "output_type": "stream",
          "text": [
            "Requirement already satisfied: transformers in /usr/local/lib/python3.10/dist-packages (4.35.2)\n",
            "Requirement already satisfied: filelock in /usr/local/lib/python3.10/dist-packages (from transformers) (3.13.1)\n",
            "Requirement already satisfied: huggingface-hub<1.0,>=0.16.4 in /usr/local/lib/python3.10/dist-packages (from transformers) (0.19.4)\n",
            "Requirement already satisfied: numpy>=1.17 in /usr/local/lib/python3.10/dist-packages (from transformers) (1.23.5)\n",
            "Requirement already satisfied: packaging>=20.0 in /usr/local/lib/python3.10/dist-packages (from transformers) (23.2)\n",
            "Requirement already satisfied: pyyaml>=5.1 in /usr/local/lib/python3.10/dist-packages (from transformers) (6.0.1)\n",
            "Requirement already satisfied: regex!=2019.12.17 in /usr/local/lib/python3.10/dist-packages (from transformers) (2023.6.3)\n",
            "Requirement already satisfied: requests in /usr/local/lib/python3.10/dist-packages (from transformers) (2.31.0)\n",
            "Requirement already satisfied: tokenizers<0.19,>=0.14 in /usr/local/lib/python3.10/dist-packages (from transformers) (0.15.0)\n",
            "Requirement already satisfied: safetensors>=0.3.1 in /usr/local/lib/python3.10/dist-packages (from transformers) (0.4.1)\n",
            "Requirement already satisfied: tqdm>=4.27 in /usr/local/lib/python3.10/dist-packages (from transformers) (4.66.1)\n",
            "Requirement already satisfied: fsspec>=2023.5.0 in /usr/local/lib/python3.10/dist-packages (from huggingface-hub<1.0,>=0.16.4->transformers) (2023.6.0)\n",
            "Requirement already satisfied: typing-extensions>=3.7.4.3 in /usr/local/lib/python3.10/dist-packages (from huggingface-hub<1.0,>=0.16.4->transformers) (4.5.0)\n",
            "Requirement already satisfied: charset-normalizer<4,>=2 in /usr/local/lib/python3.10/dist-packages (from requests->transformers) (3.3.2)\n",
            "Requirement already satisfied: idna<4,>=2.5 in /usr/local/lib/python3.10/dist-packages (from requests->transformers) (3.6)\n",
            "Requirement already satisfied: urllib3<3,>=1.21.1 in /usr/local/lib/python3.10/dist-packages (from requests->transformers) (2.0.7)\n",
            "Requirement already satisfied: certifi>=2017.4.17 in /usr/local/lib/python3.10/dist-packages (from requests->transformers) (2023.11.17)\n",
            "Requirement already satisfied: torch in /usr/local/lib/python3.10/dist-packages (2.1.0+cu121)\n",
            "Requirement already satisfied: torchvision in /usr/local/lib/python3.10/dist-packages (0.16.0+cu121)\n",
            "Requirement already satisfied: filelock in /usr/local/lib/python3.10/dist-packages (from torch) (3.13.1)\n",
            "Requirement already satisfied: typing-extensions in /usr/local/lib/python3.10/dist-packages (from torch) (4.5.0)\n",
            "Requirement already satisfied: sympy in /usr/local/lib/python3.10/dist-packages (from torch) (1.12)\n",
            "Requirement already satisfied: networkx in /usr/local/lib/python3.10/dist-packages (from torch) (3.2.1)\n",
            "Requirement already satisfied: jinja2 in /usr/local/lib/python3.10/dist-packages (from torch) (3.1.2)\n",
            "Requirement already satisfied: fsspec in /usr/local/lib/python3.10/dist-packages (from torch) (2023.6.0)\n",
            "Requirement already satisfied: triton==2.1.0 in /usr/local/lib/python3.10/dist-packages (from torch) (2.1.0)\n",
            "Requirement already satisfied: numpy in /usr/local/lib/python3.10/dist-packages (from torchvision) (1.23.5)\n",
            "Requirement already satisfied: requests in /usr/local/lib/python3.10/dist-packages (from torchvision) (2.31.0)\n",
            "Requirement already satisfied: pillow!=8.3.*,>=5.3.0 in /usr/local/lib/python3.10/dist-packages (from torchvision) (9.4.0)\n",
            "Requirement already satisfied: MarkupSafe>=2.0 in /usr/local/lib/python3.10/dist-packages (from jinja2->torch) (2.1.3)\n",
            "Requirement already satisfied: charset-normalizer<4,>=2 in /usr/local/lib/python3.10/dist-packages (from requests->torchvision) (3.3.2)\n",
            "Requirement already satisfied: idna<4,>=2.5 in /usr/local/lib/python3.10/dist-packages (from requests->torchvision) (3.6)\n",
            "Requirement already satisfied: urllib3<3,>=1.21.1 in /usr/local/lib/python3.10/dist-packages (from requests->torchvision) (2.0.7)\n",
            "Requirement already satisfied: certifi>=2017.4.17 in /usr/local/lib/python3.10/dist-packages (from requests->torchvision) (2023.11.17)\n",
            "Requirement already satisfied: mpmath>=0.19 in /usr/local/lib/python3.10/dist-packages (from sympy->torch) (1.3.0)\n",
            "Collecting sentencepiece\n",
            "  Downloading sentencepiece-0.1.99-cp310-cp310-manylinux_2_17_x86_64.manylinux2014_x86_64.whl (1.3 MB)\n",
            "\u001b[2K     \u001b[90m━━━━━━━━━━━━━━━━━━━━━━━━━━━━━━━━━━━━━━━━\u001b[0m \u001b[32m1.3/1.3 MB\u001b[0m \u001b[31m8.8 MB/s\u001b[0m eta \u001b[36m0:00:00\u001b[0m\n",
            "\u001b[?25hInstalling collected packages: sentencepiece\n",
            "Successfully installed sentencepiece-0.1.99\n"
          ]
        }
      ],
      "source": [
        "# install transformers if required\n",
        "%pip install transformers\n",
        "%pip install torch torchvision\n",
        "%pip install sentencepiece==0.1.99"
      ]
    },
    {
      "cell_type": "code",
      "execution_count": 18,
      "metadata": {
        "id": "_G0uqiyBHcPs"
      },
      "outputs": [],
      "source": [
        "from transformers import AutoTokenizer, AutoModel\n",
        "import torch\n",
        "\n",
        "# load the T5 tokenizer and model\n",
        "tokenizer = AutoTokenizer.from_pretrained('t5-small', model_max_length=512)\n",
        "model = AutoModel.from_pretrained('t5-small')\n",
        "\n",
        "# set the model to evaluation mode\n",
        "model.eval()\n",
        "\n",
        "# encode the input sentence\n",
        "def get_t5_vector(line):\n",
        "    input_ids = tokenizer.encode(line, return_tensors='pt', max_length=512, truncation=True)\n",
        "    # generate the vector representation\n",
        "    with torch.no_grad():\n",
        "        outputs = model.encoder(input_ids=input_ids)\n",
        "        vector = outputs.last_hidden_state.mean(dim=1)\n",
        "    return vector[0]"
      ]
    },
    {
      "cell_type": "code",
      "execution_count": 19,
      "metadata": {
        "colab": {
          "base_uri": "https://localhost:8080/"
        },
        "id": "T59zGw5OHcPs",
        "outputId": "27d80c12-c0fe-4c78-f9f8-c5c2e4f91869"
      },
      "outputs": [
        {
          "name": "stdout",
          "output_type": "stream",
          "text": [
            "T5好评例子的评分 : -0.010294\n",
            "T5差评例子的评分 : -0.008990\n"
          ]
        }
      ],
      "source": [
        "positive_review_in_t5 = get_t5_vector(\"An Amazon review with a positive sentiment.\")\n",
        "negative_review_in_t5 = get_t5_vector('An Amazon review with a negative sentiment.')\n",
        "\n",
        "def test_t5():\n",
        "  positive_example_in_t5 = get_t5_vector(positive_text)\n",
        "  negative_example_in_t5 = get_t5_vector(negative_text)\n",
        "\n",
        "  def get_t5_score(sample_embedding):\n",
        "    return cosine_similarity(sample_embedding, positive_review_in_t5) - cosine_similarity(sample_embedding, negative_review_in_t5)\n",
        "\n",
        "  positive_score = get_t5_score(positive_example_in_t5)\n",
        "  negative_score = get_t5_score(negative_example_in_t5)\n",
        "\n",
        "  print(\"T5好评例子的评分 : %f\" % (positive_score))\n",
        "  print(\"T5差评例子的评分 : %f\" % (negative_score))\n",
        "\n",
        "test_t5()"
      ]
    },
    {
      "cell_type": "code",
      "execution_count": 20,
      "metadata": {
        "colab": {
          "base_uri": "https://localhost:8080/"
        },
        "id": "gxOy84BAHcPs",
        "outputId": "6d2aafab-7da5-41b7-9969-38f87d97504a"
      },
      "outputs": [
        {
          "name": "stdout",
          "output_type": "stream",
          "text": [
            "T5好评例子的评分 : 0.010347\n",
            "T5差评例子的评分 : -0.023935\n"
          ]
        }
      ],
      "source": [
        "tokenizer = AutoTokenizer.from_pretrained('t5-base', model_max_length=512)\n",
        "model = AutoModel.from_pretrained('t5-base')\n",
        "\n",
        "# set the model to evaluation mode\n",
        "model.eval()\n",
        "\n",
        "# encode the input sentence\n",
        "def get_t5_vector(line):\n",
        "    input_ids = tokenizer.encode(line, return_tensors='pt', max_length=512, truncation=True)\n",
        "    # generate the vector representation\n",
        "    with torch.no_grad():\n",
        "        outputs = model.encoder(input_ids=input_ids)\n",
        "        vector = outputs.last_hidden_state.mean(dim=1)\n",
        "    return vector[0]\n",
        "\n",
        "positive_review_in_t5 = get_t5_vector(\"An Amazon review with a positive sentiment.\")\n",
        "negative_review_in_t5 = get_t5_vector('An Amazon review with a negative sentiment.')\n",
        "\n",
        "test_t5()"
      ]
    },
    {
      "cell_type": "code",
      "execution_count": 21,
      "metadata": {
        "colab": {
          "base_uri": "https://localhost:8080/"
        },
        "id": "ITMekdfcHcPs",
        "outputId": "321fb40f-672d-4425-9f2b-f0ce4016bb20"
      },
      "outputs": [
        {
          "name": "stderr",
          "output_type": "stream",
          "text": [
            "<ipython-input-21-1d22d9d69b5b>:12: SettingWithCopyWarning: \n",
            "A value is trying to be set on a copy of a slice from a DataFrame.\n",
            "Try using .loc[row_indexer,col_indexer] = value instead\n",
            "\n",
            "See the caveats in the documentation: https://pandas.pydata.org/pandas-docs/stable/user_guide/indexing.html#returning-a-view-versus-a-copy\n",
            "  df[\"sentiment\"] = df.Score.replace({1: \"negative\", 2: \"negative\", 4: \"positive\", 5: \"positive\"})\n"
          ]
        }
      ],
      "source": [
        "import pandas as pd\n",
        "from sklearn.metrics import classification_report\n",
        "\n",
        "datafile_path = \"data/fine_food_reviews_with_embeddings_1k.csv\"\n",
        "\n",
        "df = pd.read_csv(datafile_path)\n",
        "\n",
        "\n",
        "df[\"t5_embedding\"] = df.Text.apply(get_t5_vector)\n",
        "# convert 5-star rating to binary sentiment\n",
        "df = df[df.Score != 3]\n",
        "df[\"sentiment\"] = df.Score.replace({1: \"negative\", 2: \"negative\", 4: \"positive\", 5: \"positive\"})"
      ]
    },
    {
      "cell_type": "code",
      "execution_count": 22,
      "metadata": {
        "colab": {
          "base_uri": "https://localhost:8080/",
          "height": 628
        },
        "id": "YDubfmifHcPs",
        "outputId": "fadf2451-e52d-4da0-ac3b-e508927d050e"
      },
      "outputs": [
        {
          "name": "stdout",
          "output_type": "stream",
          "text": [
            "              precision    recall  f1-score   support\n",
            "\n",
            "    negative       0.60      0.90      0.72       136\n",
            "    positive       0.98      0.90      0.94       789\n",
            "\n",
            "    accuracy                           0.90       925\n",
            "   macro avg       0.79      0.90      0.83       925\n",
            "weighted avg       0.93      0.90      0.91       925\n",
            "\n"
          ]
        },
        {
          "data": {
            "image/png": "[encoded data removed]",
            "text/plain": [
              "<Figure size 640x480 with 1 Axes>"
            ]
          },
          "metadata": {},
          "output_type": "display_data"
        }
      ],
      "source": [
        "from sklearn.metrics import PrecisionRecallDisplay\n",
        "\n",
        "def evaluate_embeddings_approach():\n",
        "    def label_score(review_embedding):\n",
        "        return cosine_similarity(review_embedding, positive_review_in_t5) - cosine_similarity(review_embedding, negative_review_in_t5)\n",
        "\n",
        "    probas = df[\"t5_embedding\"].apply(lambda x: label_score(x))\n",
        "    preds = probas.apply(lambda x: 'positive' if x>0 else 'negative')\n",
        "\n",
        "    report = classification_report(df.sentiment, preds)\n",
        "    print(report)\n",
        "\n",
        "    display = PrecisionRecallDisplay.from_predictions(df.sentiment, probas, pos_label='positive')\n",
        "    _ = display.ax_.set_title(\"2-class Precision-Recall curve\")\n",
        "\n",
        "evaluate_embeddings_approach()\n"
      ]
    },
    {
      "cell_type": "code",
      "execution_count": null,
      "metadata": {
        "id": "rimAixIhTAWt"
      },
      "outputs": [],
      "source": []
    }
  ],
  "metadata": {
    "accelerator": "GPU",
    "colab": {
      "gpuType": "V100",
      "machine_shape": "hm",
      "provenance": []
    },
    "kernelspec": {
      "display_name": "Python 3",
      "name": "python3"
    },
    "language_info": {
      "codemirror_mode": {
        "name": "ipython",
        "version": 3
      },
      "file_extension": ".py",
      "mimetype": "text/x-python",
      "name": "python",
      "nbconvert_exporter": "python",
      "pygments_lexer": "ipython3",
      "version": "3.10.13"
    },
    "vscode": {
      "interpreter": {
        "hash": "8114e84f04cf14e493992e1b725447accf84073d5ec18e7063d492738bf032cb"
      }
    }
  },
  "nbformat": 4,
  "nbformat_minor": 0
}
